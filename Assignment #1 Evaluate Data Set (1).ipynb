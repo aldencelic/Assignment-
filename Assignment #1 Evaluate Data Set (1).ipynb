{
 "cells": [
  {
   "cell_type": "markdown",
   "id": "f3a765bb-8768-40b1-8680-e803c158df51",
   "metadata": {},
   "source": [
    "### Assignment #1 Evaluate Data Set"
   ]
  },
  {
   "cell_type": "markdown",
   "id": "612b3287-8225-476c-969f-9a60887c2fd8",
   "metadata": {},
   "source": [
    "## 1.1 Topic: Food Prices"
   ]
  },
  {
   "cell_type": "markdown",
   "id": "24b137e5-4368-4219-99c2-86f33bab0b5c",
   "metadata": {},
   "source": [
    "I chose the topic of food prices because they are an important aspect of daily life which affects everyone, e.g. purchasing food for lunch or buying groceries. Through studying fluctuating food prices, it allows us to understand food affordibility, food security, health and diet, as well as predict consumer behavior. "
   ]
  },
  {
   "cell_type": "markdown",
   "id": "67fa7378-52f5-4888-a5da-c78395f32b1e",
   "metadata": {},
   "source": [
    "## 1.2 Find a Data Set"
   ]
  },
  {
   "cell_type": "markdown",
   "id": "bf96efb5-7a6a-4c25-b4b4-95811025274b",
   "metadata": {},
   "source": [
    "Data Set Name: Global Food Prices Database"
   ]
  },
  {
   "cell_type": "markdown",
   "id": "bfe12c6e-d940-4236-8001-cb85a0366f03",
   "metadata": {},
   "source": [
    "URL: https://www.kaggle.com/datasets/salehahmedrony/global-food-prices"
   ]
  },
  {
   "cell_type": "markdown",
   "id": "8ab26f59-5b57-457b-8a7f-968454b65261",
   "metadata": {},
   "source": [
    "## 1.3 Choose a Data Set"
   ]
  },
  {
   "cell_type": "markdown",
   "id": "906c58de-64f4-4cab-9ad8-33cbf34d8fbf",
   "metadata": {},
   "source": [
    "File Format: .csv"
   ]
  },
  {
   "cell_type": "markdown",
   "id": "8adc24e0-167e-4603-918d-4e709ba382d3",
   "metadata": {},
   "source": [
    "Size of the Data Set: 169.48 MB"
   ]
  },
  {
   "cell_type": "markdown",
   "id": "438b85b8-0d87-4a89-ba0a-2e9eafb3a0e9",
   "metadata": {},
   "source": [
    "### 1.4 Evaluation"
   ]
  },
  {
   "cell_type": "markdown",
   "id": "4a606b6e-844e-4205-980f-766a437ea3a7",
   "metadata": {},
   "source": [
    "Numbers of Columns: 18"
   ]
  },
  {
   "cell_type": "markdown",
   "id": "83f68e91-ff55-4fc0-83c5-3428e111ff4e",
   "metadata": {},
   "source": [
    "Columns:\n",
    "Country Id,\n",
    "Country Name,\n",
    "Locality Id,\n",
    "Locality Name,\n",
    "Market Id,\n",
    "Market Name,\n",
    "Commodity Purchased Id,\n",
    "Commodity Purchased Name,\n",
    "Currency Id,\n",
    "Currency Name,\n",
    "Market Type Id,\n",
    "Market Type,\n",
    "Measurement Id,\n",
    "Unit of Goods Measured,\n",
    "Month Recorded,\n",
    "Year Recorded,\n",
    "Price Paid,\n",
    "Source Supplying Price"
   ]
  },
  {
   "cell_type": "markdown",
   "id": "eed03d75-2830-457b-8b37-0c2ca0a75944",
   "metadata": {},
   "source": [
    "Number of Rows: About 1.048M"
   ]
  },
  {
   "cell_type": "markdown",
   "id": "e498ca9f-fac2-45ff-914a-91366b0cfd2e",
   "metadata": {},
   "source": [
    "Types of Data: Date (string), Country (string), Food Item (string), Price (integer), Currency (string), Source (string), Source (string), Region (string), Unit (integer)"
   ]
  },
  {
   "cell_type": "markdown",
   "id": "c35b3347-0486-4b2b-9e76-28f7a19699f0",
   "metadata": {},
   "source": [
    "Initial Inspection: After inspecting this data set, there does not seem to be anything missing. However, there may be some food items or countries that have not been accounted for, which can impact the overall study of global food prices."
   ]
  },
  {
   "cell_type": "markdown",
   "id": "95a00f61-ea81-4a5d-b4f5-edfd1111ff32",
   "metadata": {},
   "source": [
    "There are many questions I can ask following an analysis and initial inspection of this data set. For example, \"how have food prices changed for certain commodities in their respective countries?\" Through another analysis of this data set, it is reasonable to suggest that the answer to this question can be found through another careful inspection. Another question that could be asked is, \"which regions are experiencing the biggest increase in commodities?\" Through another analysis this data set, it is reasonable to suggest that the answer to this question can be found through another careful inspection. Food prices may be lower in poorer regions of the world, whereas they may be higher in richer regions of the world. The question of \"What is the impact of certain global events (such as Covid-19) on food prices\" can also be inferred. The answer to this question can also be found through another analysis and careful inspection of this data set by comparing dates of food prices and when they were bought."
   ]
  },
  {
   "cell_type": "markdown",
   "id": "03130182-e447-48ab-8df7-3560c3977235",
   "metadata": {},
   "source": [
    "There may be some issues or limitations with this data set. For example, one limitation is that may not have the regional variety of prices of a particular country, rather an average. Food and commodity prices greatly vary among these regions, i.e. rural areas vs urban areas. Furthermore, because this data set heavily relies upon prices that are reported, there may be many applies biases or inaccuracies. Incorporating other detailed data, like income levels or population density, may allow for a more detailed insight of food pricing dynamics."
   ]
  },
  {
   "cell_type": "markdown",
   "id": "16b98d5f-738b-42b3-a101-e5858bdc37b1",
   "metadata": {},
   "source": [
    "## 1.5 Reading the Data in Python"
   ]
  },
  {
   "cell_type": "code",
   "execution_count": 21,
   "id": "750f256f-43f5-492a-b548-dd3279747914",
   "metadata": {},
   "outputs": [],
   "source": [
    "import pandas"
   ]
  },
  {
   "cell_type": "code",
   "execution_count": 31,
   "id": "0eda95af-82e3-4a61-9b58-0dd31c420453",
   "metadata": {},
   "outputs": [
    {
     "ename": "FileNotFoundError",
     "evalue": "[Errno 2] No such file or directory: 'wfp_market_food_prices.cs '",
     "output_type": "error",
     "traceback": [
      "\u001b[1;31m---------------------------------------------------------------------------\u001b[0m",
      "\u001b[1;31mFileNotFoundError\u001b[0m                         Traceback (most recent call last)",
      "Cell \u001b[1;32mIn[31], line 1\u001b[0m\n\u001b[1;32m----> 1\u001b[0m df \u001b[38;5;241m=\u001b[39m pandas\u001b[38;5;241m.\u001b[39mread_csv(\u001b[38;5;124m'\u001b[39m\u001b[38;5;124mwfp_market_food_prices.cs \u001b[39m\u001b[38;5;124m'\u001b[39m)\n",
      "File \u001b[1;32m~\\anaconda3\\Lib\\site-packages\\pandas\\io\\parsers\\readers.py:1026\u001b[0m, in \u001b[0;36mread_csv\u001b[1;34m(filepath_or_buffer, sep, delimiter, header, names, index_col, usecols, dtype, engine, converters, true_values, false_values, skipinitialspace, skiprows, skipfooter, nrows, na_values, keep_default_na, na_filter, verbose, skip_blank_lines, parse_dates, infer_datetime_format, keep_date_col, date_parser, date_format, dayfirst, cache_dates, iterator, chunksize, compression, thousands, decimal, lineterminator, quotechar, quoting, doublequote, escapechar, comment, encoding, encoding_errors, dialect, on_bad_lines, delim_whitespace, low_memory, memory_map, float_precision, storage_options, dtype_backend)\u001b[0m\n\u001b[0;32m   1013\u001b[0m kwds_defaults \u001b[38;5;241m=\u001b[39m _refine_defaults_read(\n\u001b[0;32m   1014\u001b[0m     dialect,\n\u001b[0;32m   1015\u001b[0m     delimiter,\n\u001b[1;32m   (...)\u001b[0m\n\u001b[0;32m   1022\u001b[0m     dtype_backend\u001b[38;5;241m=\u001b[39mdtype_backend,\n\u001b[0;32m   1023\u001b[0m )\n\u001b[0;32m   1024\u001b[0m kwds\u001b[38;5;241m.\u001b[39mupdate(kwds_defaults)\n\u001b[1;32m-> 1026\u001b[0m \u001b[38;5;28;01mreturn\u001b[39;00m _read(filepath_or_buffer, kwds)\n",
      "File \u001b[1;32m~\\anaconda3\\Lib\\site-packages\\pandas\\io\\parsers\\readers.py:620\u001b[0m, in \u001b[0;36m_read\u001b[1;34m(filepath_or_buffer, kwds)\u001b[0m\n\u001b[0;32m    617\u001b[0m _validate_names(kwds\u001b[38;5;241m.\u001b[39mget(\u001b[38;5;124m\"\u001b[39m\u001b[38;5;124mnames\u001b[39m\u001b[38;5;124m\"\u001b[39m, \u001b[38;5;28;01mNone\u001b[39;00m))\n\u001b[0;32m    619\u001b[0m \u001b[38;5;66;03m# Create the parser.\u001b[39;00m\n\u001b[1;32m--> 620\u001b[0m parser \u001b[38;5;241m=\u001b[39m TextFileReader(filepath_or_buffer, \u001b[38;5;241m*\u001b[39m\u001b[38;5;241m*\u001b[39mkwds)\n\u001b[0;32m    622\u001b[0m \u001b[38;5;28;01mif\u001b[39;00m chunksize \u001b[38;5;129;01mor\u001b[39;00m iterator:\n\u001b[0;32m    623\u001b[0m     \u001b[38;5;28;01mreturn\u001b[39;00m parser\n",
      "File \u001b[1;32m~\\anaconda3\\Lib\\site-packages\\pandas\\io\\parsers\\readers.py:1620\u001b[0m, in \u001b[0;36mTextFileReader.__init__\u001b[1;34m(self, f, engine, **kwds)\u001b[0m\n\u001b[0;32m   1617\u001b[0m     \u001b[38;5;28mself\u001b[39m\u001b[38;5;241m.\u001b[39moptions[\u001b[38;5;124m\"\u001b[39m\u001b[38;5;124mhas_index_names\u001b[39m\u001b[38;5;124m\"\u001b[39m] \u001b[38;5;241m=\u001b[39m kwds[\u001b[38;5;124m\"\u001b[39m\u001b[38;5;124mhas_index_names\u001b[39m\u001b[38;5;124m\"\u001b[39m]\n\u001b[0;32m   1619\u001b[0m \u001b[38;5;28mself\u001b[39m\u001b[38;5;241m.\u001b[39mhandles: IOHandles \u001b[38;5;241m|\u001b[39m \u001b[38;5;28;01mNone\u001b[39;00m \u001b[38;5;241m=\u001b[39m \u001b[38;5;28;01mNone\u001b[39;00m\n\u001b[1;32m-> 1620\u001b[0m \u001b[38;5;28mself\u001b[39m\u001b[38;5;241m.\u001b[39m_engine \u001b[38;5;241m=\u001b[39m \u001b[38;5;28mself\u001b[39m\u001b[38;5;241m.\u001b[39m_make_engine(f, \u001b[38;5;28mself\u001b[39m\u001b[38;5;241m.\u001b[39mengine)\n",
      "File \u001b[1;32m~\\anaconda3\\Lib\\site-packages\\pandas\\io\\parsers\\readers.py:1880\u001b[0m, in \u001b[0;36mTextFileReader._make_engine\u001b[1;34m(self, f, engine)\u001b[0m\n\u001b[0;32m   1878\u001b[0m     \u001b[38;5;28;01mif\u001b[39;00m \u001b[38;5;124m\"\u001b[39m\u001b[38;5;124mb\u001b[39m\u001b[38;5;124m\"\u001b[39m \u001b[38;5;129;01mnot\u001b[39;00m \u001b[38;5;129;01min\u001b[39;00m mode:\n\u001b[0;32m   1879\u001b[0m         mode \u001b[38;5;241m+\u001b[39m\u001b[38;5;241m=\u001b[39m \u001b[38;5;124m\"\u001b[39m\u001b[38;5;124mb\u001b[39m\u001b[38;5;124m\"\u001b[39m\n\u001b[1;32m-> 1880\u001b[0m \u001b[38;5;28mself\u001b[39m\u001b[38;5;241m.\u001b[39mhandles \u001b[38;5;241m=\u001b[39m get_handle(\n\u001b[0;32m   1881\u001b[0m     f,\n\u001b[0;32m   1882\u001b[0m     mode,\n\u001b[0;32m   1883\u001b[0m     encoding\u001b[38;5;241m=\u001b[39m\u001b[38;5;28mself\u001b[39m\u001b[38;5;241m.\u001b[39moptions\u001b[38;5;241m.\u001b[39mget(\u001b[38;5;124m\"\u001b[39m\u001b[38;5;124mencoding\u001b[39m\u001b[38;5;124m\"\u001b[39m, \u001b[38;5;28;01mNone\u001b[39;00m),\n\u001b[0;32m   1884\u001b[0m     compression\u001b[38;5;241m=\u001b[39m\u001b[38;5;28mself\u001b[39m\u001b[38;5;241m.\u001b[39moptions\u001b[38;5;241m.\u001b[39mget(\u001b[38;5;124m\"\u001b[39m\u001b[38;5;124mcompression\u001b[39m\u001b[38;5;124m\"\u001b[39m, \u001b[38;5;28;01mNone\u001b[39;00m),\n\u001b[0;32m   1885\u001b[0m     memory_map\u001b[38;5;241m=\u001b[39m\u001b[38;5;28mself\u001b[39m\u001b[38;5;241m.\u001b[39moptions\u001b[38;5;241m.\u001b[39mget(\u001b[38;5;124m\"\u001b[39m\u001b[38;5;124mmemory_map\u001b[39m\u001b[38;5;124m\"\u001b[39m, \u001b[38;5;28;01mFalse\u001b[39;00m),\n\u001b[0;32m   1886\u001b[0m     is_text\u001b[38;5;241m=\u001b[39mis_text,\n\u001b[0;32m   1887\u001b[0m     errors\u001b[38;5;241m=\u001b[39m\u001b[38;5;28mself\u001b[39m\u001b[38;5;241m.\u001b[39moptions\u001b[38;5;241m.\u001b[39mget(\u001b[38;5;124m\"\u001b[39m\u001b[38;5;124mencoding_errors\u001b[39m\u001b[38;5;124m\"\u001b[39m, \u001b[38;5;124m\"\u001b[39m\u001b[38;5;124mstrict\u001b[39m\u001b[38;5;124m\"\u001b[39m),\n\u001b[0;32m   1888\u001b[0m     storage_options\u001b[38;5;241m=\u001b[39m\u001b[38;5;28mself\u001b[39m\u001b[38;5;241m.\u001b[39moptions\u001b[38;5;241m.\u001b[39mget(\u001b[38;5;124m\"\u001b[39m\u001b[38;5;124mstorage_options\u001b[39m\u001b[38;5;124m\"\u001b[39m, \u001b[38;5;28;01mNone\u001b[39;00m),\n\u001b[0;32m   1889\u001b[0m )\n\u001b[0;32m   1890\u001b[0m \u001b[38;5;28;01massert\u001b[39;00m \u001b[38;5;28mself\u001b[39m\u001b[38;5;241m.\u001b[39mhandles \u001b[38;5;129;01mis\u001b[39;00m \u001b[38;5;129;01mnot\u001b[39;00m \u001b[38;5;28;01mNone\u001b[39;00m\n\u001b[0;32m   1891\u001b[0m f \u001b[38;5;241m=\u001b[39m \u001b[38;5;28mself\u001b[39m\u001b[38;5;241m.\u001b[39mhandles\u001b[38;5;241m.\u001b[39mhandle\n",
      "File \u001b[1;32m~\\anaconda3\\Lib\\site-packages\\pandas\\io\\common.py:873\u001b[0m, in \u001b[0;36mget_handle\u001b[1;34m(path_or_buf, mode, encoding, compression, memory_map, is_text, errors, storage_options)\u001b[0m\n\u001b[0;32m    868\u001b[0m \u001b[38;5;28;01melif\u001b[39;00m \u001b[38;5;28misinstance\u001b[39m(handle, \u001b[38;5;28mstr\u001b[39m):\n\u001b[0;32m    869\u001b[0m     \u001b[38;5;66;03m# Check whether the filename is to be opened in binary mode.\u001b[39;00m\n\u001b[0;32m    870\u001b[0m     \u001b[38;5;66;03m# Binary mode does not support 'encoding' and 'newline'.\u001b[39;00m\n\u001b[0;32m    871\u001b[0m     \u001b[38;5;28;01mif\u001b[39;00m ioargs\u001b[38;5;241m.\u001b[39mencoding \u001b[38;5;129;01mand\u001b[39;00m \u001b[38;5;124m\"\u001b[39m\u001b[38;5;124mb\u001b[39m\u001b[38;5;124m\"\u001b[39m \u001b[38;5;129;01mnot\u001b[39;00m \u001b[38;5;129;01min\u001b[39;00m ioargs\u001b[38;5;241m.\u001b[39mmode:\n\u001b[0;32m    872\u001b[0m         \u001b[38;5;66;03m# Encoding\u001b[39;00m\n\u001b[1;32m--> 873\u001b[0m         handle \u001b[38;5;241m=\u001b[39m \u001b[38;5;28mopen\u001b[39m(\n\u001b[0;32m    874\u001b[0m             handle,\n\u001b[0;32m    875\u001b[0m             ioargs\u001b[38;5;241m.\u001b[39mmode,\n\u001b[0;32m    876\u001b[0m             encoding\u001b[38;5;241m=\u001b[39mioargs\u001b[38;5;241m.\u001b[39mencoding,\n\u001b[0;32m    877\u001b[0m             errors\u001b[38;5;241m=\u001b[39merrors,\n\u001b[0;32m    878\u001b[0m             newline\u001b[38;5;241m=\u001b[39m\u001b[38;5;124m\"\u001b[39m\u001b[38;5;124m\"\u001b[39m,\n\u001b[0;32m    879\u001b[0m         )\n\u001b[0;32m    880\u001b[0m     \u001b[38;5;28;01melse\u001b[39;00m:\n\u001b[0;32m    881\u001b[0m         \u001b[38;5;66;03m# Binary mode\u001b[39;00m\n\u001b[0;32m    882\u001b[0m         handle \u001b[38;5;241m=\u001b[39m \u001b[38;5;28mopen\u001b[39m(handle, ioargs\u001b[38;5;241m.\u001b[39mmode)\n",
      "\u001b[1;31mFileNotFoundError\u001b[0m: [Errno 2] No such file or directory: 'wfp_market_food_prices.cs '"
     ]
    }
   ],
   "source": [
    "df = pandas.read_csv('wfp_market_food_prices.cs ')"
   ]
  },
  {
   "cell_type": "code",
   "execution_count": null,
   "id": "8fd5b042-aca1-4ac6-9374-1a8e79eddfca",
   "metadata": {},
   "outputs": [],
   "source": []
  }
 ],
 "metadata": {
  "kernelspec": {
   "display_name": "Python 3 (ipykernel)",
   "language": "python",
   "name": "python3"
  },
  "language_info": {
   "codemirror_mode": {
    "name": "ipython",
    "version": 3
   },
   "file_extension": ".py",
   "mimetype": "text/x-python",
   "name": "python",
   "nbconvert_exporter": "python",
   "pygments_lexer": "ipython3",
   "version": "3.12.4"
  }
 },
 "nbformat": 4,
 "nbformat_minor": 5
}
